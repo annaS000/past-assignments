{
 "cells": [
  {
   "cell_type": "code",
   "execution_count": 78,
   "metadata": {},
   "outputs": [],
   "source": [
    "from itertools import product"
   ]
  },
  {
   "cell_type": "code",
   "execution_count": 79,
   "metadata": {},
   "outputs": [
    {
     "data": {
      "text/plain": [
       "False"
      ]
     },
     "execution_count": 79,
     "metadata": {},
     "output_type": "execute_result"
    }
   ],
   "source": [
    "#1. Write a function never_mostly_ones() which takes in a bitstring b \n",
    "#(in either list or tuple form) and returns True if for all k, the \n",
    "#number of 1's in the first k entires is less than or equal to the \n",
    "#number of zeroes.\n",
    "\n",
    "#>>> never_mostly_ones((0,1,1,0))\n",
    "#False\n",
    "#>>> never_mostly_ones((0,1,0,1))\n",
    "#True\n",
    "\n",
    "def never_mostly_ones(x):\n",
    "    return all([sum(list(x))==len(x)/2]+[(len([i for i in x[:j] if i==1]))-(len([i for i in x[:j] if i==0]))<=0 for j in range(1,len(x))])\n",
    "never_mostly_ones((0,1,1,0))"
   ]
  },
  {
   "cell_type": "code",
   "execution_count": 80,
   "metadata": {},
   "outputs": [
    {
     "data": {
      "text/plain": [
       "True"
      ]
     },
     "execution_count": 80,
     "metadata": {},
     "output_type": "execute_result"
    }
   ],
   "source": [
    "never_mostly_ones((0,1,0,1))"
   ]
  },
  {
   "cell_type": "code",
   "execution_count": 81,
   "metadata": {},
   "outputs": [
    {
     "data": {
      "text/plain": [
       "False"
      ]
     },
     "execution_count": 81,
     "metadata": {},
     "output_type": "execute_result"
    }
   ],
   "source": [
    "never_mostly_ones((0,0,0,0))"
   ]
  },
  {
   "cell_type": "code",
   "execution_count": 82,
   "metadata": {},
   "outputs": [
    {
     "data": {
      "text/plain": [
       "[(0, 1)]"
      ]
     },
     "execution_count": 82,
     "metadata": {},
     "output_type": "execute_result"
    }
   ],
   "source": [
    "#2. Write a function catalan_strings() which takes in a positive \n",
    "#integer n and returns the list of length 2n bitstrings which are \n",
    "#never mostly ones. This means for any k, the number of 1's in the \n",
    "#first k entries is less than or equal to the total number of zeroes.\n",
    "\n",
    "#>>> catalan_strings(1)\n",
    "#[(0, 1)]\n",
    "#>>> catalan_strings(3)\n",
    "#[(0, 0, 0, 1, 1, 1), (0, 0, 1, 0, 1, 1), (0, 0, 1, 1, 0, 1), (0, 1, 0, 0, 1, 1), (0, 1, 0, 1, 0, 1)]\n",
    "\n",
    "def catalan_strings(n):\n",
    "    return [i for i in list(product([0,1],repeat=2*n)) if never_mostly_ones(i)]\n",
    "catalan_strings(1)"
   ]
  },
  {
   "cell_type": "code",
   "execution_count": 83,
   "metadata": {},
   "outputs": [
    {
     "data": {
      "text/plain": [
       "[(0, 0, 0, 1, 1, 1),\n",
       " (0, 0, 1, 0, 1, 1),\n",
       " (0, 0, 1, 1, 0, 1),\n",
       " (0, 1, 0, 0, 1, 1),\n",
       " (0, 1, 0, 1, 0, 1)]"
      ]
     },
     "execution_count": 83,
     "metadata": {},
     "output_type": "execute_result"
    }
   ],
   "source": [
    " catalan_strings(3)"
   ]
  },
  {
   "cell_type": "code",
   "execution_count": 84,
   "metadata": {},
   "outputs": [
    {
     "data": {
      "text/plain": [
       "42"
      ]
     },
     "execution_count": 84,
     "metadata": {},
     "output_type": "execute_result"
    }
   ],
   "source": [
    "#3. Write a function catalan1() which counts the number of catalan \n",
    "#strings to find the nth catalan number.\n",
    "\n",
    "#>>> catalan1(5)\n",
    "#42\n",
    "#>>> catalan1(9)\n",
    "#4862\n",
    "\n",
    "def catalan1(n):\n",
    "     return len(catalan_strings(n))\n",
    "catalan1(5)"
   ]
  },
  {
   "cell_type": "code",
   "execution_count": 85,
   "metadata": {},
   "outputs": [
    {
     "data": {
      "text/plain": [
       "4862"
      ]
     },
     "execution_count": 85,
     "metadata": {},
     "output_type": "execute_result"
    }
   ],
   "source": [
    "catalan1(9)"
   ]
  },
  {
   "cell_type": "code",
   "execution_count": 5,
   "metadata": {},
   "outputs": [
    {
     "data": {
      "text/plain": [
       "4862"
      ]
     },
     "execution_count": 5,
     "metadata": {},
     "output_type": "execute_result"
    }
   ],
   "source": [
    "#4. Write a function catalan2() which uses recursion and the recurrence \n",
    "#relation below for the Catalan numbers to find the nth catalan number.\n",
    "\n",
    " #C0 = 1 comma  #Cn = Σ {from k = 0 to n - 1} (Ck)(Cn-1-k)\n",
    "    \n",
    "#>>> catalan2(5)\n",
    "#42\n",
    "#>>> catalan2(9)\n",
    "#4862\n",
    "#>>> catalan2(14)\n",
    "#2674440\n",
    "C={0:1}\n",
    "def catalan2(n):\n",
    "    if n in C:\n",
    "        return C[n]\n",
    "    C[n]=sum([catalan2(k)*catalan2(n-1-k) for k in range(n)])\n",
    "    return C[n]\n",
    "catalan2(9)"
   ]
  },
  {
   "cell_type": "code",
   "execution_count": 7,
   "metadata": {},
   "outputs": [
    {
     "data": {
      "text/plain": [
       "132"
      ]
     },
     "execution_count": 7,
     "metadata": {},
     "output_type": "execute_result"
    }
   ],
   "source": [
    "catalan2(6)"
   ]
  },
  {
   "cell_type": "code",
   "execution_count": 88,
   "metadata": {},
   "outputs": [
    {
     "data": {
      "text/plain": [
       "2674440"
      ]
     },
     "execution_count": 88,
     "metadata": {},
     "output_type": "execute_result"
    }
   ],
   "source": [
    "catalan2(14)"
   ]
  }
 ],
 "metadata": {
  "kernelspec": {
   "display_name": "Python 3",
   "language": "python",
   "name": "python3"
  },
  "language_info": {
   "codemirror_mode": {
    "name": "ipython",
    "version": 3
   },
   "file_extension": ".py",
   "mimetype": "text/x-python",
   "name": "python",
   "nbconvert_exporter": "python",
   "pygments_lexer": "ipython3",
   "version": "3.8.5"
  }
 },
 "nbformat": 4,
 "nbformat_minor": 5
}
