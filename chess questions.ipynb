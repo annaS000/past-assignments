{
 "cells": [
  {
   "cell_type": "code",
   "execution_count": 1,
   "metadata": {},
   "outputs": [
    {
     "data": {
      "text/plain": [
       "False"
      ]
     },
     "execution_count": 1,
     "metadata": {},
     "output_type": "execute_result"
    }
   ],
   "source": [
    "#1. Write a function friendly_knights() which takes in two squares \n",
    "#and tells whether or not two knights on those squares are threatening \n",
    "#each other.  We want it to return True if the knights are not threatening \n",
    "#each other and False if they are.  Note that this function does not need \n",
    "#to take in the size of the board.\n",
    "def friendly_knights(x,y):\n",
    "    return (abs(x[0]-y[0])!=1 or abs(x[1]-y[1])!=2) and (abs(x[0]-y[0])!=2 or abs(x[1]-y[1])!=1)\n",
    "friendly_knights((0,0),(1,2))"
   ]
  },
  {
   "cell_type": "code",
   "execution_count": 2,
   "metadata": {},
   "outputs": [
    {
     "data": {
      "text/plain": [
       "True"
      ]
     },
     "execution_count": 2,
     "metadata": {},
     "output_type": "execute_result"
    }
   ],
   "source": [
    "friendly_knights((0,0),(1,3))"
   ]
  },
  {
   "cell_type": "code",
   "execution_count": 3,
   "metadata": {},
   "outputs": [
    {
     "data": {
      "text/plain": [
       "True"
      ]
     },
     "execution_count": 3,
     "metadata": {},
     "output_type": "execute_result"
    }
   ],
   "source": [
    "friendly_knights((0,0),(2,2))"
   ]
  },
  {
   "cell_type": "code",
   "execution_count": 4,
   "metadata": {},
   "outputs": [
    {
     "data": {
      "text/plain": [
       "True"
      ]
     },
     "execution_count": 4,
     "metadata": {},
     "output_type": "execute_result"
    }
   ],
   "source": [
    "#2. Write a function friendly_group() which takes in a list or \n",
    "#tuple of positions and also takes in a function.  When given \n",
    "#a function that tells whether pairs of a certain piece type \n",
    "#are fiendly, friendly_group() should return False in any pair \n",
    "#of DIFFERENT pieces of that type in those positions are \n",
    "#threatening each other.  Otherwise it should return True.\n",
    "def friendly_rooks(x,y):\n",
    "    return x[0]!=y[0] and x[1]!=y[1]\n",
    "def friendly_kings(x,y): \n",
    "    return abs(x[0]-y[0])>1 or abs(x[1]-y[1])>1\n",
    "def friendly_group(x,f):\n",
    "    return all([f(i,j) for i in x for j in x if i!=j])\n",
    "friendly_group([(0,0),(1,0),(1,1),(2,0)],friendly_knights)"
   ]
  },
  {
   "cell_type": "code",
   "execution_count": 103,
   "metadata": {},
   "outputs": [
    {
     "data": {
      "text/plain": [
       "False"
      ]
     },
     "execution_count": 103,
     "metadata": {},
     "output_type": "execute_result"
    }
   ],
   "source": [
    "friendly_group([(0,0),(1,0),(1,1),(2,1)],friendly_kings)"
   ]
  },
  {
   "cell_type": "code",
   "execution_count": 104,
   "metadata": {},
   "outputs": [
    {
     "data": {
      "text/plain": [
       "False"
      ]
     },
     "execution_count": 104,
     "metadata": {},
     "output_type": "execute_result"
    }
   ],
   "source": [
    "friendly_group([(0,0),(1,0),(1,1),(2,1)],friendly_rooks)"
   ]
  },
  {
   "cell_type": "code",
   "execution_count": 105,
   "metadata": {},
   "outputs": [
    {
     "data": {
      "text/plain": [
       "True"
      ]
     },
     "execution_count": 105,
     "metadata": {},
     "output_type": "execute_result"
    }
   ],
   "source": [
    " friendly_group([(0,0),(1,2),(2,4)],friendly_rooks)"
   ]
  },
  {
   "cell_type": "code",
   "execution_count": 106,
   "metadata": {},
   "outputs": [
    {
     "data": {
      "text/plain": [
       "True"
      ]
     },
     "execution_count": 106,
     "metadata": {},
     "output_type": "execute_result"
    }
   ],
   "source": [
    "friendly_group([(0,0),(1,2),(2,4)],friendly_kings)"
   ]
  },
  {
   "cell_type": "code",
   "execution_count": 107,
   "metadata": {},
   "outputs": [
    {
     "data": {
      "text/plain": [
       "False"
      ]
     },
     "execution_count": 107,
     "metadata": {},
     "output_type": "execute_result"
    }
   ],
   "source": [
    "friendly_group([(0,0),(1,2),(2,4)],friendly_knights)"
   ]
  },
  {
   "cell_type": "code",
   "execution_count": 5,
   "metadata": {},
   "outputs": [],
   "source": [
    "#3. Write a function chess_number() which takes in four variables \n",
    "#m - number of rows\n",
    "#n - number of columns\n",
    "#k - number of pieces\n",
    "#f - a function which tells whether pairs of a piece type are friendly\n",
    "#and uses the function you give it to return the number of ways that \n",
    "#we can place k non-attacking pieces on an m by n chessboard. \n",
    "from itertools import combinations\n",
    "def board(m,n):\n",
    "    return [(i,j) for i in range(m) for j in range(n)]\n",
    "def chess_number(m,n,k,f):\n",
    "    return sum(1 for i in list(combinations(board(m,n),k)) if friendly_group(i,f)) "
   ]
  },
  {
   "cell_type": "code",
   "execution_count": 109,
   "metadata": {},
   "outputs": [
    {
     "data": {
      "text/plain": [
       "4"
      ]
     },
     "execution_count": 109,
     "metadata": {},
     "output_type": "execute_result"
    }
   ],
   "source": [
    "chess_number(2,2,3,friendly_knights)"
   ]
  },
  {
   "cell_type": "code",
   "execution_count": 110,
   "metadata": {},
   "outputs": [
    {
     "data": {
      "text/plain": [
       "0"
      ]
     },
     "execution_count": 110,
     "metadata": {},
     "output_type": "execute_result"
    }
   ],
   "source": [
    "chess_number(2,3,5,friendly_knights)"
   ]
  },
  {
   "cell_type": "code",
   "execution_count": 111,
   "metadata": {},
   "outputs": [
    {
     "data": {
      "text/plain": [
       "2"
      ]
     },
     "execution_count": 111,
     "metadata": {},
     "output_type": "execute_result"
    }
   ],
   "source": [
    "chess_number(3,3,5,friendly_knights)"
   ]
  },
  {
   "cell_type": "code",
   "execution_count": 112,
   "metadata": {},
   "outputs": [
    {
     "data": {
      "text/plain": [
       "192336"
      ]
     },
     "execution_count": 112,
     "metadata": {},
     "output_type": "execute_result"
    }
   ],
   "source": [
    "chess_number(5,8,5,friendly_knights)"
   ]
  },
  {
   "cell_type": "code",
   "execution_count": 7,
   "metadata": {},
   "outputs": [
    {
     "data": {
      "text/plain": [
       "120"
      ]
     },
     "execution_count": 7,
     "metadata": {},
     "output_type": "execute_result"
    }
   ],
   "source": [
    "chess_number(4,5,2,friendly_rooks)"
   ]
  },
  {
   "cell_type": "code",
   "execution_count": 8,
   "metadata": {},
   "outputs": [
    {
     "data": {
      "text/plain": [
       "135"
      ]
     },
     "execution_count": 8,
     "metadata": {},
     "output_type": "execute_result"
    }
   ],
   "source": [
    "chess_number(4,5,2,friendly_kings)"
   ]
  },
  {
   "cell_type": "code",
   "execution_count": 115,
   "metadata": {},
   "outputs": [
    {
     "data": {
      "text/plain": [
       "6"
      ]
     },
     "execution_count": 115,
     "metadata": {},
     "output_type": "execute_result"
    }
   ],
   "source": [
    "chess_number(4,4,8,friendly_knights)"
   ]
  },
  {
   "cell_type": "code",
   "execution_count": 92,
   "metadata": {},
   "outputs": [
    {
     "data": {
      "text/latex": [
       "$\\displaystyle \\left[\\begin{matrix}Knight & X & Knight\\\\X & Knight & X\\\\Knight & X & Knight\\end{matrix}\\right]$"
      ],
      "text/plain": [
       "Matrix([\n",
       "[Knight,      X, Knight],\n",
       "[     X, Knight,      X],\n",
       "[Knight,      X, Knight]])"
      ]
     },
     "execution_count": 92,
     "metadata": {},
     "output_type": "execute_result"
    }
   ],
   "source": [
    "#Note: Is it obvious why chess_number(3,3,5,friendly_knights) must be 2 as shown above?  \n",
    "#Can you prove this result using the sum and product rule alone?\n",
    "from sympy import *\n",
    "#the center of a 3x3 board can always hold the knight because all the spaces around it are only\n",
    "#one space away\n",
    "#so we have 8 spaces left to fill with 4 knights\n",
    "#depending if you put the next knight in a corner or middle spot will determine the last 3\n",
    "#this gives us 2 cases with only one possible configuration each\n",
    "#so there are only 1+1=2 ways for 5 knights to be placed on a 3x3 board\n",
    "Matrix([['Knight','X','Knight'],['X','Knight','X'],['Knight','X','Knight']])"
   ]
  },
  {
   "cell_type": "code",
   "execution_count": 91,
   "metadata": {},
   "outputs": [
    {
     "data": {
      "text/latex": [
       "$\\displaystyle \\left[\\begin{matrix}X & Knight & X\\\\Knight & Knight & Knight\\\\X & Knight & X\\end{matrix}\\right]$"
      ],
      "text/plain": [
       "Matrix([\n",
       "[     X, Knight,      X],\n",
       "[Knight, Knight, Knight],\n",
       "[     X, Knight,      X]])"
      ]
     },
     "execution_count": 91,
     "metadata": {},
     "output_type": "execute_result"
    }
   ],
   "source": [
    "Matrix([['X','Knight','X'],['Knight','Knight','Knight'],['X','Knight','X']])"
   ]
  }
 ],
 "metadata": {
  "kernelspec": {
   "display_name": "Python 3",
   "language": "python",
   "name": "python3"
  },
  "language_info": {
   "codemirror_mode": {
    "name": "ipython",
    "version": 3
   },
   "file_extension": ".py",
   "mimetype": "text/x-python",
   "name": "python",
   "nbconvert_exporter": "python",
   "pygments_lexer": "ipython3",
   "version": "3.8.5"
  }
 },
 "nbformat": 4,
 "nbformat_minor": 4
}
