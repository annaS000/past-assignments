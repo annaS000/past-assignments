{
 "cells": [
  {
   "cell_type": "code",
   "execution_count": 1,
   "metadata": {},
   "outputs": [],
   "source": [
    "from itertools import combinations, permutations\n",
    "deck=[(i,j) for i in ['A','2','3','4','5','6','7','8','9','10','J','Q','K'] for j in ['H','S','C','D']]\n",
    "deck2=[(i,j) for i in ['A','2','3','4','5','6','7','8','9','10','J','Q','K'] for j in ['S','C','D']]"
   ]
  },
  {
   "cell_type": "code",
   "execution_count": 2,
   "metadata": {},
   "outputs": [
    {
     "data": {
      "text/plain": [
       "103776"
      ]
     },
     "execution_count": 2,
     "metadata": {},
     "output_type": "execute_result"
    }
   ],
   "source": [
    "# hands with 4 aces\n",
    "def fourA(x):\n",
    "    ranks=[list(x)[i][0] for i in range(len(x))]\n",
    "    suits=[list(x)[i][1] for i in range(len(x))]\n",
    "    for i in ranks:\n",
    "        if ranks.count(\"A\")!=2:\n",
    "            return False\n",
    "    return True\n",
    "len([i for i in list(combinations(deck,5)) if fourA(i)])"
   ]
  },
  {
   "cell_type": "code",
   "execution_count": 3,
   "metadata": {},
   "outputs": [
    {
     "data": {
      "text/plain": [
       "3"
      ]
     },
     "execution_count": 3,
     "metadata": {},
     "output_type": "execute_result"
    }
   ],
   "source": [
    "#all 5 card hands no hearts\n",
    "# 2K & 3Q\n",
    "nohearts=[(i,j) for i in ['A','2','3','4','5','6','7','8','9','10','J','Q','K'] for j in ['S','C','D']]\n",
    "def nohearts2K3Q(x):\n",
    "    ranks=[list(x)[i][0] for i in range(len(x))]\n",
    "    for i in ranks:\n",
    "        if ranks.count(\"K\")!=2:\n",
    "            return False\n",
    "        if ranks.count(\"Q\")!=3:\n",
    "            return False\n",
    "    return True\n",
    "len([i for i in list(combinations(nohearts,5)) if nohearts2K3Q(i)])"
   ]
  },
  {
   "cell_type": "code",
   "execution_count": 4,
   "metadata": {},
   "outputs": [
    {
     "data": {
      "text/plain": [
       "202800"
      ]
     },
     "execution_count": 4,
     "metadata": {},
     "output_type": "execute_result"
    }
   ],
   "source": [
    "#all 5 card hands no hearts\n",
    "# 2D & 3BLACK\n",
    
    "def nohearts2D3B(x):\n",
    "    suits=[list(x)[i][1] for i in range(len(x))]\n",
    "    for i in suits:\n",
    "        if suits.count(\"D\")!=2:\n",
    "            return False\n",
    "    return True\n",
    "len([i for i in list(combinations(nohearts,5)) if nohearts2D3B(i)])"
   ]
  },
  {
   "cell_type": "code",
   "execution_count": 5,
   "metadata": {},
   "outputs": [
    {
     "data": {
      "text/plain": [
       "67067"
      ]
     },
     "execution_count": 5,
     "metadata": {},
     "output_type": "execute_result"
    }
   ],
   "source": [
    "#all 5 card hands no hearts\n",
    "#c) SAME COLOR\n",
    
    "def noheartsSAME(x):\n",
    "    suits=[list(x)[i][1] for i in range(len(x))]\n",
    "    for i in suits:\n",
    "        if suits.count(\"D\") in {1,2,3,4}:\n",
    "            return False\n",
    "    return True\n",
    "len([i for i in list(combinations(nohearts,5)) if noheartsSAME(i)])"
   ]
  },
  {
   "cell_type": "code",
   "execution_count": 6,
   "metadata": {},
   "outputs": [
    {
     "data": {
      "text/plain": [
       "55770"
      ]
     },
     "execution_count": 6,
     "metadata": {},
     "output_type": "execute_result"
    }
   ],
   "source": [
    "#all 5 card hands no hearts\n",
    "#d) ALMOST FLUSH\n",
    
    "def nohearts4SAME(x):\n",
    "    suits=[list(x)[i][1] for i in range(len(x))]\n",
    "    for i in suits:\n",
    "        if suits.count(i) in {2,3,5}:\n",
    "            return False\n",
    "    return True\n",
    "len([i for i in list(combinations(nohearts,5)) if nohearts4SAME(i)])"
   ]
  },
  {
   "cell_type": "code",
   "execution_count": 7,
   "metadata": {},
   "outputs": [
    {
     "data": {
      "text/plain": [
       "23166"
      ]
     },
     "execution_count": 7,
     "metadata": {},
     "output_type": "execute_result"
    }
   ],
   "source": [
    "#all 5 card hands no hearts\n",
    "#e) 2 PAIRS\n",
    
    "def nohearts2P(x):\n",
    "    ranks=[list(x)[i][0] for i in range(len(x))]\n",
    "    if len(set(ranks))!=3:\n",
    "        return False\n",
    "    for i in ranks:\n",
    "        if ranks.count(i)==3:\n",
    "            return False\n",
    "    return True\n",
    "len([i for i in list(combinations(nohearts,5)) if nohearts2P(i)])"
   ]
  },
  {
   "cell_type": "code",
   "execution_count": 8,
   "metadata": {},
   "outputs": [
    {
     "data": {
      "text/plain": [
       "7722"
      ]
     },
     "execution_count": 8,
     "metadata": {},
     "output_type": "execute_result"
    }
   ],
   "source": [
    "#all 5 card hands no hearts\n",
    "#f) 3OAK\n",
    
    "def nohearts3OAK(x):\n",
    "    ranks=[list(x)[i][0] for i in range(len(x))]\n",
    "    if len(set(ranks))!=3:\n",
    "        return False\n",
    "    for i in ranks:\n",
    "        if ranks.count(i)==3:\n",
    "            return True\n",
    "len([i for i in list(combinations(nohearts,5)) if nohearts3OAK(i)])"
   ]
  },
  {
   "cell_type": "code",
   "execution_count": 10,
   "metadata": {},
   "outputs": [
    {
     "data": {
      "text/plain": [
       "28776"
      ]
     },
     "execution_count": 10,
     "metadata": {},
     "output_type": "execute_result"
    }
   ],
   "source": [
    "#all 5 card hands no hearts\n",
    "#g) 1A 3RED\n",
    
    "def nohearts1A3R(x):\n",
    "    ranks=[list(x)[i][0] for i in range(len(x))]\n",
    "    suits=[list(x)[i][1] for i in range(len(x))]\n",
    "    if suits.count(\"D\")!=3:\n",
    "        return False\n",
    "    if ranks.count(\"A\")!=1:\n",
    "        return False\n",
    "    return True\n",
    "        \n",
    "len([i for i in list(combinations(nohearts,5)) if nohearts1A3R(i)])"
   ]
  },
  {
   "cell_type": "code",
   "execution_count": 11,
   "metadata": {},
   "outputs": [
    {
     "data": {
      "text/plain": [
       "0"
      ]
     },
     "execution_count": 11,
     "metadata": {},
     "output_type": "execute_result"
    }
   ],
   "source": [
    "#all 5 card hands no hearts no clubs\n",
    "#a) 2K & 3Q\n",
    
    "def nohearts2K3Q(x):\n",
    "    ranks=[list(x)[i][0] for i in range(len(x))]\n",
    "    for i in ranks:\n",
    "        if ranks.count(\"K\")!=2:\n",
    "            return False\n",
    "        if ranks.count(\"Q\")!=3:\n",
    "            return False\n",
    "    return True\n",
    "len([i for i in list(combinations(nohearts,5)) if nohearts2K3Q(i)])"
   ]
  },
  {
   "cell_type": "code",
   "execution_count": 12,
   "metadata": {},
   "outputs": [
    {
     "data": {
      "text/plain": [
       "22308"
      ]
     },
     "execution_count": 12,
     "metadata": {},
     "output_type": "execute_result"
    }
   ],
   "source": [
    "#all 5 card hands no hearts no clubs\n",
    "#b) 2D & 3BLACK\n",
    "from itertools import combinations\n",
    "nohearts=[(i,j) for i in ['A','2','3','4','5','6','7','8','9','10','J','Q','K'] for j in ['S','D']]\n",
    "def nohearts2D3B(x):\n",
    "    suits=[list(x)[i][1] for i in range(len(x))]\n",
    "    for i in suits:\n",
    "        if suits.count(\"D\")!=2:\n",
    "            return False\n",
    "    return True\n",
    "len([i for i in list(combinations(nohearts,5)) if nohearts2D3B(i)])"
   ]
  },
  {
   "cell_type": "code",
   "execution_count": 13,
   "metadata": {},
   "outputs": [
    {
     "data": {
      "text/plain": [
       "2574"
      ]
     },
     "execution_count": 13,
     "metadata": {},
     "output_type": "execute_result"
    }
   ],
   "source": [
    "#all 5 card hands no hearts no clubs\n",
    "#c) SAME COLOR\n",
    
    "def noheartsSAME(x):\n",
    "    suits=[list(x)[i][1] for i in range(len(x))]\n",
    "    for i in suits:\n",
    "        if suits.count(\"D\") in {1,2,3,4}:\n",
    "            return False\n",
    "    return True\n",
    "len([i for i in list(combinations(nohearts,5)) if noheartsSAME(i)])"
   ]
  },
  {
   "cell_type": "code",
   "execution_count": 14,
   "metadata": {},
   "outputs": [
    {
     "data": {
      "text/plain": [
       "18590"
      ]
     },
     "execution_count": 14,
     "metadata": {},
     "output_type": "execute_result"
    }
   ],
   "source": [
    "#all 5 card hands no hearts no clubs\n",
    "#d) ALMOST FLUSH\n",
   
    "def nohearts4SAME(x):\n",
    "    suits=[list(x)[i][1] for i in range(len(x))]\n",
    "    for i in suits:\n",
    "        if suits.count(i) in {2,3,5}:\n",
    "            return False\n",
    "    return True\n",
    "len([i for i in list(combinations(nohearts,5)) if nohearts4SAME(i)])"
   ]
  },
  {
   "cell_type": "code",
   "execution_count": 15,
   "metadata": {},
   "outputs": [
    {
     "data": {
      "text/plain": [
       "1716"
      ]
     },
     "execution_count": 15,
     "metadata": {},
     "output_type": "execute_result"
    }
   ],
   "source": [
    "#all 5 card hands no hearts no clubs\n",
    "#e) 2 PAIRS\n",
    
    "def nohearts2P(x):\n",
    "    ranks=[list(x)[i][0] for i in range(len(x))]\n",
    "    if len(set(ranks))!=3:\n",
    "        return False\n",
    "    for i in ranks:\n",
    "        if ranks.count(i)==3:\n",
    "            return False\n",
    "    return True\n",
    "len([i for i in list(combinations(nohearts,5)) if nohearts2P(i)])"
   ]
  },
  {
   "cell_type": "code",
   "execution_count": 16,
   "metadata": {},
   "outputs": [
    {
     "data": {
      "text/plain": [
       "0"
      ]
     },
     "execution_count": 16,
     "metadata": {},
     "output_type": "execute_result"
    }
   ],
   "source": [
    "#all 5 card hands no hearts no clubs\n",
    "#f) 3OAK\n",
   
    "def nohearts3OAK(x):\n",
    "    ranks=[list(x)[i][0] for i in range(len(x))]\n",
    "    if len(set(ranks))!=3:\n",
    "        return False\n",
    "    for i in ranks:\n",
    "        if ranks.count(i)==3:\n",
    "            return True\n",
    "len([i for i in list(combinations(nohearts,5)) if nohearts3OAK(i)])"
   ]
  },
  {
   "cell_type": "code",
   "execution_count": 17,
   "metadata": {},
   "outputs": [
    {
     "data": {
      "text/plain": [
       "6996"
      ]
     },
     "execution_count": 17,
     "metadata": {},
     "output_type": "execute_result"
    }
   ],
   "source": [
    "#all 5 card hands no hearts no clubs\n",
    "#g) 1A 3RED\n",
    
    "def nohearts1A3R(x):\n",
    "    ranks=[list(x)[i][0] for i in range(len(x))]\n",
    "    suits=[list(x)[i][1] for i in range(len(x))]\n",
    "    if suits.count(\"D\")!=3:\n",
    "        return False\n",
    "    if ranks.count(\"A\")!=1:\n",
    "        return False\n",
    "    return True\n",
    "        \n",
    "len([i for i in list(combinations(nohearts,5)) if nohearts1A3R(i)])"
   ]
  }
 ],
 "metadata": {
  "kernelspec": {
   "display_name": "Python 3",
   "language": "python",
   "name": "python3"
  },
  "language_info": {
   "codemirror_mode": {
    "name": "ipython",
    "version": 3
   },
   "file_extension": ".py",
   "mimetype": "text/x-python",
   "name": "python",
   "nbconvert_exporter": "python",
   "pygments_lexer": "ipython3",
   "version": "3.8.5"
  }
 },
 "nbformat": 4,
 "nbformat_minor": 4
}
